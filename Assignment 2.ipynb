{
 "cells": [
  {
   "cell_type": "markdown",
   "id": "e2ccc5e9",
   "metadata": {},
   "source": [
    "Question = 1\n",
    "\n",
    "When the last expression a is evaluated is the value will be 6.\n",
    "\n",
    "Here's a step-wise explanation for each executed statement:\n",
    "\n",
    "-> a = 0: This statement assigns the value 0 to the global variable a.\n",
    "-> def b():: This statement defines a function named b.\n",
    "-> global a: This statement declares that the variable a inside the function b refers to the global variable a, not a local        variable.\n",
    "-> a = c(a): This calls the function c with the current value of a (which is 0) as an argument, and assigns the return value (2) to a.\n",
    "-> def c(a):: This defines a function named c that takes an argument a.\n",
    "-> return a + 2: This statement returns the value of a plus 2.\n",
    "-> b(): This calls the function b, which calls the function c with the current value of a (which is 2) as an argument,and          assigns the return value (4) to a.\n",
    "-> b(): This statement calls the function b again, which calls the function c with the current value of a (which is 4) as an        argument, and assigns the return value (6) to a.\n",
    "-> b(): In this step it calls the function b one more time, which calls the function c with the current value of a (which is 6)    as an argument, and assigns the return value (8) to a. However, the return value is not used or assigned to any variable.\n",
    "-> a: This statement evaluates the variable a, which is now 6, and displays its value."
   ]
  },
  {
   "cell_type": "markdown",
   "id": "9f017c15",
   "metadata": {},
   "source": [
    "Question = 2"
   ]
  },
  {
   "cell_type": "code",
   "execution_count": 1,
   "id": "17945143",
   "metadata": {},
   "outputs": [],
   "source": [
    "def fileLength(filename):\n",
    "    try:\n",
    "        infile = open(filename)#, 'r')\n",
    "        contents = infile.read()\n",
    "        infile.close()\n",
    "        return len(contents)\n",
    "    except FileNotFoundError:\n",
    "        print(f\"File\", filename, \"not found.\")\n"
   ]
  },
  {
   "cell_type": "code",
   "execution_count": 2,
   "id": "db98af9d",
   "metadata": {},
   "outputs": [
    {
     "name": "stdout",
     "output_type": "stream",
     "text": [
      "File midterm.py not found.\n"
     ]
    }
   ],
   "source": [
    "fileLength('midterm.py')"
   ]
  },
  {
   "cell_type": "code",
   "execution_count": 3,
   "id": "4368bff1",
   "metadata": {},
   "outputs": [
    {
     "name": "stdout",
     "output_type": "stream",
     "text": [
      "File idterm.py not found.\n"
     ]
    }
   ],
   "source": [
    "fileLength('idterm.py')"
   ]
  },
  {
   "cell_type": "markdown",
   "id": "aa328689",
   "metadata": {},
   "source": [
    "Question = 3"
   ]
  },
  {
   "cell_type": "code",
   "execution_count": 4,
   "id": "6f89e59d",
   "metadata": {},
   "outputs": [
    {
     "name": "stdout",
     "output_type": "stream",
     "text": [
      "['doll', 'firetruck', 'kitten']\n",
      "I am a Kangaroo located at coordinates (0,0)\n",
      "['doll', 'firetruck', 'kitten']\n",
      "I am a Kangaroo located at coordinates (3,0)\n"
     ]
    }
   ],
   "source": [
    "class Marsupial:\n",
    "    def __init__(self):\n",
    "        self.pouch = []\n",
    "        \n",
    "    def put_in_pouch(self, item):\n",
    "        self.pouch.append(item)\n",
    "        \n",
    "    def pouch_contents(self):\n",
    "        return self.pouch\n",
    "\n",
    "\n",
    "class Kangaroo(Marsupial):\n",
    "    def __init__(self, x, y):\n",
    "        super().__init__()\n",
    "        self.x = x\n",
    "        self.y = y\n",
    "        \n",
    "    def jump(self, dx, dy):\n",
    "        self.x += dx\n",
    "        self.y += dy\n",
    "        \n",
    "    def __str__(self):\n",
    "        return f\"I am a Kangaroo located at coordinates ({self.x},{self.y})\"\n",
    "\n",
    "\n",
    "m = Marsupial()\n",
    "m.put_in_pouch('doll')\n",
    "m.put_in_pouch('firetruck')\n",
    "m.put_in_pouch('kitten')\n",
    "print(m.pouch_contents())\n",
    "\n",
    "k = Kangaroo(0, 0)\n",
    "print(k)\n",
    "k.put_in_pouch('doll')\n",
    "k.put_in_pouch('firetruck')\n",
    "k.put_in_pouch('kitten')\n",
    "print(k.pouch_contents())\n",
    "k.jump(1, 0)\n",
    "k.jump(1, 0)\n",
    "k.jump(1, 0)\n",
    "print(k)\n"
   ]
  },
  {
   "cell_type": "markdown",
   "id": "11937819",
   "metadata": {},
   "source": [
    "Question = 4 "
   ]
  },
  {
   "cell_type": "code",
   "execution_count": 5,
   "id": "8a5142a5",
   "metadata": {},
   "outputs": [],
   "source": [
    "def collatz(x):\n",
    "    print(x)\n",
    "    if x == 1:\n",
    "        return\n",
    "    elif x % 2 == 0:\n",
    "        collatz(x // 2)\n",
    "    else:\n",
    "        collatz(3*x + 1)\n"
   ]
  },
  {
   "cell_type": "code",
   "execution_count": 6,
   "id": "c8c05168",
   "metadata": {},
   "outputs": [
    {
     "name": "stdout",
     "output_type": "stream",
     "text": [
      "1\n"
     ]
    }
   ],
   "source": [
    "collatz(1)"
   ]
  },
  {
   "cell_type": "code",
   "execution_count": 7,
   "id": "81a69d1d",
   "metadata": {},
   "outputs": [
    {
     "name": "stdout",
     "output_type": "stream",
     "text": [
      "10\n",
      "5\n",
      "16\n",
      "8\n",
      "4\n",
      "2\n",
      "1\n"
     ]
    }
   ],
   "source": [
    "collatz(10)"
   ]
  },
  {
   "cell_type": "markdown",
   "id": "197f3646",
   "metadata": {},
   "source": [
    "Question = 5"
   ]
  },
  {
   "cell_type": "code",
   "execution_count": 8,
   "id": "39c44e4f",
   "metadata": {},
   "outputs": [],
   "source": [
    "def binary(n):\n",
    "    if n == 0:\n",
    "        return \"0\"\n",
    "    elif n == 1:\n",
    "        return \"1\"\n",
    "    else:\n",
    "        return binary(n // 2) + str(n % 2)\n"
   ]
  },
  {
   "cell_type": "code",
   "execution_count": 9,
   "id": "4a968a65",
   "metadata": {},
   "outputs": [
    {
     "name": "stdout",
     "output_type": "stream",
     "text": [
      "0\n"
     ]
    }
   ],
   "source": [
    "print(binary(0))"
   ]
  },
  {
   "cell_type": "code",
   "execution_count": 10,
   "id": "8c916eeb",
   "metadata": {},
   "outputs": [
    {
     "name": "stdout",
     "output_type": "stream",
     "text": [
      "1\n"
     ]
    }
   ],
   "source": [
    "print(binary(1))"
   ]
  },
  {
   "cell_type": "code",
   "execution_count": 11,
   "id": "60e27194",
   "metadata": {},
   "outputs": [
    {
     "name": "stdout",
     "output_type": "stream",
     "text": [
      "11\n"
     ]
    }
   ],
   "source": [
    "print(binary(3))"
   ]
  },
  {
   "cell_type": "code",
   "execution_count": 12,
   "id": "e578c87b",
   "metadata": {},
   "outputs": [
    {
     "name": "stdout",
     "output_type": "stream",
     "text": [
      "1001\n"
     ]
    }
   ],
   "source": [
    "print(binary(9))"
   ]
  },
  {
   "cell_type": "markdown",
   "id": "5f8566f2",
   "metadata": {},
   "source": [
    "Question = 6"
   ]
  },
  {
   "cell_type": "code",
   "execution_count": 13,
   "id": "f6245252",
   "metadata": {},
   "outputs": [],
   "source": [
    "from html.parser import HTMLParser\n",
    "\n",
    "\n",
    "class HeadingParser(HTMLParser):\n",
    "    def __init__(self):\n",
    "        super().__init__()\n",
    "        self._heading_level = 0\n",
    "\n",
    "    def handle_starttag(self, tag, attrs):\n",
    "        if tag.startswith('h'):\n",
    "            try:\n",
    "                self._heading_level = int(tag[1])\n",
    "            except ValueError:\n",
    "                self._heading_level = 0\n",
    "    \n",
    "    def handle_data(self, data):\n",
    "        if self._heading_level > 0:\n",
    "            print(' ' * (self._heading_level - 1) + data.strip())\n",
    "    \n",
    "    def handle_endtag(self, tag):\n",
    "        if tag.startswith('h'):\n",
    "            self._heading_level = 0\n"
   ]
  },
  {
   "cell_type": "code",
   "execution_count": 19,
   "id": "95c86587",
   "metadata": {},
   "outputs": [
    {
     "name": "stdout",
     "output_type": "stream",
     "text": [
      "W3C Mission\n",
      " Principles\n"
     ]
    }
   ],
   "source": [
    "infile = open('w3c.html')\n",
    "content = infile.read()\n",
    "infile.close()\n",
    "\n",
    "hp = HeadingParser()\n",
    "hp.feed(content)"
   ]
  },
  {
   "cell_type": "markdown",
   "id": "60abca34",
   "metadata": {},
   "source": [
    "Question = 7"
   ]
  },
  {
   "cell_type": "code",
   "execution_count": 23,
   "id": "519924af",
   "metadata": {},
   "outputs": [],
   "source": [
    "import urllib.request\n",
    "import re\n",
    "\n",
    "def webdir(url, depth, indent=0):\n",
    "    if depth == 0:\n",
    "        return\n",
    "    \n",
    "    # Print the current URL with appropriate indentation\n",
    "    print(' ' * indent + url)\n",
    "    \n",
    "    # Retrieve the contents of the web page\n",
    "    try:\n",
    "        with urllib.request.urlopen(url) as response:\n",
    "            html = response.read().decode()\n",
    "    except:\n",
    "        return\n",
    "    \n",
    "    # Extract links from the HTML code\n",
    "    links = re.findall(r'href=[\\'\"]?([^\\'\" >]+)', html)\n",
    "    \n",
    "    # Recursively visit linked pages\n",
    "    for link in links:\n",
    "        if link.startswith('http'):\n",
    "            webdir(link, depth - 1, indent + 1)\n",
    "        elif link.startswith('/'):\n",
    "            webdir(url + link, depth - 1, indent + 1)\n"
   ]
  },
  {
   "cell_type": "code",
   "execution_count": 24,
   "id": "13c96ab0",
   "metadata": {},
   "outputs": [
    {
     "name": "stdout",
     "output_type": "stream",
     "text": [
      "http://reed.cs.depaul.edu/lperkovic/csc242/test1.html\n"
     ]
    }
   ],
   "source": [
    "webdir('http://reed.cs.depaul.edu/lperkovic/csc242/test1.html', 2, 0)"
   ]
  },
  {
   "cell_type": "markdown",
   "id": "36277abe",
   "metadata": {},
   "source": [
    "Question = 8"
   ]
  },
  {
   "cell_type": "code",
   "execution_count": 17,
   "id": "d431a259",
   "metadata": {},
   "outputs": [
    {
     "ename": "SyntaxError",
     "evalue": "unmatched ')' (3480546262.py, line 1)",
     "output_type": "error",
     "traceback": [
      "\u001b[1;36m  File \u001b[1;32m\"C:\\Users\\rohan\\AppData\\Local\\Temp\\ipykernel_22232\\3480546262.py\"\u001b[1;36m, line \u001b[1;32m1\u001b[0m\n\u001b[1;33m    a) SELECT * FROM table_name;\u001b[0m\n\u001b[1;37m     ^\u001b[0m\n\u001b[1;31mSyntaxError\u001b[0m\u001b[1;31m:\u001b[0m unmatched ')'\n"
     ]
    }
   ],
   "source": [
    "a) SELECT * FROM table_name;\n",
    "\n",
    "b) SELECT DISTINCT City FROM table_name;\n",
    "\n",
    "c) SELECT * FROM table_name WHERE Country = 'India';\n",
    "\n",
    "d) SELECT * FROM table_name WHERE Season = 'Fall';\n",
    "\n",
    "e) SELECT City, Country, Season FROM table_name\n",
    "WHERE Rainfall BETWEEN 200 AND 400;\n",
    "\n",
    "f) SELECT City, Country FROM table_name\n",
    "WHERE Season = 'Fall' AND Temperature > 20\n",
    "ORDER BY Temperature ASC;\n",
    "\n",
    "g) SELECT SUM(Rainfall) AS \"Total Rainfall\" FROM table_name\n",
    "WHERE City = 'Cairo';\n",
    "\n",
    "h) SELECT Season, SUM(Rainfall) AS \"Total Rainfall\" FROM table_name\n",
    "GROUP BY Season;"
   ]
  },
  {
   "cell_type": "markdown",
   "id": "c902a98b",
   "metadata": {},
   "source": [
    "Question = 9"
   ]
  },
  {
   "cell_type": "code",
   "execution_count": 25,
   "id": "9177a73e",
   "metadata": {},
   "outputs": [],
   "source": [
    "words = ['The', 'quick', 'brown', 'fox', 'jumps', 'over',\n",
    "'the', 'lazy', 'dog']"
   ]
  },
  {
   "cell_type": "code",
   "execution_count": 26,
   "id": "871f0d2f",
   "metadata": {},
   "outputs": [
    {
     "data": {
      "text/plain": [
       "['THE', 'QUICK', 'BROWN', 'FOX', 'JUMPS', 'OVER', 'THE', 'LAZY', 'DOG']"
      ]
     },
     "execution_count": 26,
     "metadata": {},
     "output_type": "execute_result"
    }
   ],
   "source": [
    "list(map(str.upper, words))"
   ]
  },
  {
   "cell_type": "code",
   "execution_count": 27,
   "id": "c20c276c",
   "metadata": {},
   "outputs": [],
   "source": [
    "words = ['The', 'quick', 'brown', 'fox', 'jumps', 'over',\n",
    "'the', 'lazy', 'dog']"
   ]
  },
  {
   "cell_type": "code",
   "execution_count": 28,
   "id": "681a86d5",
   "metadata": {},
   "outputs": [
    {
     "data": {
      "text/plain": [
       "['the', 'quick', 'brown', 'fox', 'jumps', 'over', 'the', 'lazy', 'dog']"
      ]
     },
     "execution_count": 28,
     "metadata": {},
     "output_type": "execute_result"
    }
   ],
   "source": [
    "list(map(str.lower, words))"
   ]
  },
  {
   "cell_type": "code",
   "execution_count": 29,
   "id": "baca990c",
   "metadata": {},
   "outputs": [],
   "source": [
    "words = ['The', 'quick', 'brown', 'fox', 'jumps', 'over',\n",
    "'the', 'lazy', 'dog']"
   ]
  },
  {
   "cell_type": "code",
   "execution_count": 30,
   "id": "579b07bf",
   "metadata": {},
   "outputs": [
    {
     "data": {
      "text/plain": [
       "[3, 5, 5, 3, 5, 4, 3, 4, 3]"
      ]
     },
     "execution_count": 30,
     "metadata": {},
     "output_type": "execute_result"
    }
   ],
   "source": [
    "[len(w) for w in words]"
   ]
  },
  {
   "cell_type": "code",
   "execution_count": 31,
   "id": "9abfa626",
   "metadata": {},
   "outputs": [],
   "source": [
    "words = ['The', 'quick', 'brown', 'fox', 'jumps', 'over',\n",
    "'the', 'lazy', 'dog']"
   ]
  },
  {
   "cell_type": "code",
   "execution_count": 32,
   "id": "b268eabc",
   "metadata": {},
   "outputs": [
    {
     "data": {
      "text/plain": [
       "[['THE', 'the', 3],\n",
       " ['QUICK', 'quick', 5],\n",
       " ['BROWN', 'brown', 5],\n",
       " ['FOX', 'fox', 3],\n",
       " ['JUMPS', 'jumps', 5],\n",
       " ['OVER', 'over', 4],\n",
       " ['THE', 'the', 3],\n",
       " ['LAZY', 'lazy', 4],\n",
       " ['DOG', 'dog', 3]]"
      ]
     },
     "execution_count": 32,
     "metadata": {},
     "output_type": "execute_result"
    }
   ],
   "source": [
    "[[w.upper(), w.lower(), len(w)] for w in words]"
   ]
  },
  {
   "cell_type": "code",
   "execution_count": 33,
   "id": "c4be837e",
   "metadata": {},
   "outputs": [],
   "source": [
    "words = ['The', 'quick', 'brown', 'fox', 'jumps', 'over',\n",
    "'the', 'lazy', 'dog']"
   ]
  },
  {
   "cell_type": "code",
   "execution_count": 34,
   "id": "5ceb8803",
   "metadata": {},
   "outputs": [
    {
     "data": {
      "text/plain": [
       "['quick', 'brown', 'jumps', 'over', 'lazy']"
      ]
     },
     "execution_count": 34,
     "metadata": {},
     "output_type": "execute_result"
    }
   ],
   "source": [
    "[w for w in words if len(w) >= 4]"
   ]
  },
  {
   "cell_type": "code",
   "execution_count": null,
   "id": "26141abe",
   "metadata": {},
   "outputs": [],
   "source": []
  }
 ],
 "metadata": {
  "kernelspec": {
   "display_name": "Python 3 (ipykernel)",
   "language": "python",
   "name": "python3"
  },
  "language_info": {
   "codemirror_mode": {
    "name": "ipython",
    "version": 3
   },
   "file_extension": ".py",
   "mimetype": "text/x-python",
   "name": "python",
   "nbconvert_exporter": "python",
   "pygments_lexer": "ipython3",
   "version": "3.9.13"
  }
 },
 "nbformat": 4,
 "nbformat_minor": 5
}
